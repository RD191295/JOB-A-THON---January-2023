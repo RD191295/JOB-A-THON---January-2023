{
 "cells": [
  {
   "cell_type": "markdown",
   "id": "d0ac5450",
   "metadata": {},
   "source": [
    "# Job Hackthon Comeption"
   ]
  },
  {
   "cell_type": "markdown",
   "id": "eba3c247",
   "metadata": {},
   "source": [
    "## Step 1: Importing Libraries"
   ]
  },
  {
   "cell_type": "code",
   "execution_count": 2,
   "id": "ceeaf1dc",
   "metadata": {},
   "outputs": [],
   "source": [
    "import numpy as np\n",
    "import pandas as pd\n",
    "import matplotlib.pyplot as plt\n",
    "import seaborn as sns\n",
    "sns.set_theme()"
   ]
  },
  {
   "cell_type": "markdown",
   "id": "a371cead",
   "metadata": {},
   "source": [
    "## Step:2 Loading train Data"
   ]
  },
  {
   "cell_type": "code",
   "execution_count": 3,
   "id": "84c26ac4",
   "metadata": {},
   "outputs": [
    {
     "data": {
      "text/html": [
       "<div>\n",
       "<style scoped>\n",
       "    .dataframe tbody tr th:only-of-type {\n",
       "        vertical-align: middle;\n",
       "    }\n",
       "\n",
       "    .dataframe tbody tr th {\n",
       "        vertical-align: top;\n",
       "    }\n",
       "\n",
       "    .dataframe thead th {\n",
       "        text-align: right;\n",
       "    }\n",
       "</style>\n",
       "<table border=\"1\" class=\"dataframe\">\n",
       "  <thead>\n",
       "    <tr style=\"text-align: right;\">\n",
       "      <th></th>\n",
       "      <th>id</th>\n",
       "      <th>gender</th>\n",
       "      <th>area</th>\n",
       "      <th>qualification</th>\n",
       "      <th>income</th>\n",
       "      <th>marital_status</th>\n",
       "      <th>vintage</th>\n",
       "      <th>claim_amount</th>\n",
       "      <th>num_policies</th>\n",
       "      <th>policy</th>\n",
       "      <th>type_of_policy</th>\n",
       "      <th>cltv</th>\n",
       "    </tr>\n",
       "  </thead>\n",
       "  <tbody>\n",
       "    <tr>\n",
       "      <th>0</th>\n",
       "      <td>1</td>\n",
       "      <td>Male</td>\n",
       "      <td>Urban</td>\n",
       "      <td>Bachelor</td>\n",
       "      <td>5L-10L</td>\n",
       "      <td>1</td>\n",
       "      <td>5</td>\n",
       "      <td>5790</td>\n",
       "      <td>More than 1</td>\n",
       "      <td>A</td>\n",
       "      <td>Platinum</td>\n",
       "      <td>64308</td>\n",
       "    </tr>\n",
       "    <tr>\n",
       "      <th>1</th>\n",
       "      <td>2</td>\n",
       "      <td>Male</td>\n",
       "      <td>Rural</td>\n",
       "      <td>High School</td>\n",
       "      <td>5L-10L</td>\n",
       "      <td>0</td>\n",
       "      <td>8</td>\n",
       "      <td>5080</td>\n",
       "      <td>More than 1</td>\n",
       "      <td>A</td>\n",
       "      <td>Platinum</td>\n",
       "      <td>515400</td>\n",
       "    </tr>\n",
       "    <tr>\n",
       "      <th>2</th>\n",
       "      <td>3</td>\n",
       "      <td>Male</td>\n",
       "      <td>Urban</td>\n",
       "      <td>Bachelor</td>\n",
       "      <td>5L-10L</td>\n",
       "      <td>1</td>\n",
       "      <td>8</td>\n",
       "      <td>2599</td>\n",
       "      <td>More than 1</td>\n",
       "      <td>A</td>\n",
       "      <td>Platinum</td>\n",
       "      <td>64212</td>\n",
       "    </tr>\n",
       "    <tr>\n",
       "      <th>3</th>\n",
       "      <td>4</td>\n",
       "      <td>Female</td>\n",
       "      <td>Rural</td>\n",
       "      <td>High School</td>\n",
       "      <td>5L-10L</td>\n",
       "      <td>0</td>\n",
       "      <td>7</td>\n",
       "      <td>0</td>\n",
       "      <td>More than 1</td>\n",
       "      <td>A</td>\n",
       "      <td>Platinum</td>\n",
       "      <td>97920</td>\n",
       "    </tr>\n",
       "    <tr>\n",
       "      <th>4</th>\n",
       "      <td>5</td>\n",
       "      <td>Male</td>\n",
       "      <td>Urban</td>\n",
       "      <td>High School</td>\n",
       "      <td>More than 10L</td>\n",
       "      <td>1</td>\n",
       "      <td>6</td>\n",
       "      <td>3508</td>\n",
       "      <td>More than 1</td>\n",
       "      <td>A</td>\n",
       "      <td>Gold</td>\n",
       "      <td>59736</td>\n",
       "    </tr>\n",
       "  </tbody>\n",
       "</table>\n",
       "</div>"
      ],
      "text/plain": [
       "   id  gender   area qualification         income  marital_status  vintage  \\\n",
       "0   1    Male  Urban      Bachelor         5L-10L               1        5   \n",
       "1   2    Male  Rural   High School         5L-10L               0        8   \n",
       "2   3    Male  Urban      Bachelor         5L-10L               1        8   \n",
       "3   4  Female  Rural   High School         5L-10L               0        7   \n",
       "4   5    Male  Urban   High School  More than 10L               1        6   \n",
       "\n",
       "   claim_amount num_policies policy type_of_policy    cltv  \n",
       "0          5790  More than 1      A       Platinum   64308  \n",
       "1          5080  More than 1      A       Platinum  515400  \n",
       "2          2599  More than 1      A       Platinum   64212  \n",
       "3             0  More than 1      A       Platinum   97920  \n",
       "4          3508  More than 1      A           Gold   59736  "
      ]
     },
     "execution_count": 3,
     "metadata": {},
     "output_type": "execute_result"
    }
   ],
   "source": [
    "train_data = pd.read_csv(\"Data/train.csv\")\n",
    "train_data.head()"
   ]
  },
  {
   "cell_type": "markdown",
   "id": "0a449045",
   "metadata": {},
   "source": [
    "## Step:3 Data Pre-processing"
   ]
  },
  {
   "cell_type": "code",
   "execution_count": 4,
   "id": "3fb3b166",
   "metadata": {},
   "outputs": [
    {
     "data": {
      "text/plain": [
       "id                0\n",
       "gender            0\n",
       "area              0\n",
       "qualification     0\n",
       "income            0\n",
       "marital_status    0\n",
       "vintage           0\n",
       "claim_amount      0\n",
       "num_policies      0\n",
       "policy            0\n",
       "type_of_policy    0\n",
       "cltv              0\n",
       "dtype: int64"
      ]
     },
     "execution_count": 4,
     "metadata": {},
     "output_type": "execute_result"
    }
   ],
   "source": [
    "#null values checking\n",
    "train_data.isnull().sum()"
   ]
  },
  {
   "cell_type": "markdown",
   "id": "16544c3d",
   "metadata": {},
   "source": [
    "### Observations: There is no null values in any columns"
   ]
  },
  {
   "cell_type": "code",
   "execution_count": null,
   "id": "95701d3b",
   "metadata": {},
   "outputs": [],
   "source": [
    "# checking 5 point summary\n",
    "train_data.describe()"
   ]
  },
  {
   "cell_type": "code",
   "execution_count": null,
   "id": "75e41a66",
   "metadata": {},
   "outputs": [],
   "source": [
    "# checking datatype of each feature\n",
    "train_data.info()"
   ]
  },
  {
   "cell_type": "markdown",
   "id": "3989dc28",
   "metadata": {},
   "source": [
    "### we will analyse now each columns one by one"
   ]
  },
  {
   "cell_type": "code",
   "execution_count": null,
   "id": "ff96fe6b",
   "metadata": {},
   "outputs": [],
   "source": [
    "# let see gender column distribution for each category\n",
    "train_data[\"gender\"].value_counts()"
   ]
  },
  {
   "cell_type": "code",
   "execution_count": null,
   "id": "16f21b7b",
   "metadata": {},
   "outputs": [],
   "source": [
    "sns.countplot(x='gender', data=train_data).set(title=\"Gender count for each category\")"
   ]
  },
  {
   "cell_type": "code",
   "execution_count": null,
   "id": "518e5b6c",
   "metadata": {},
   "outputs": [],
   "source": [
    "# let see area column distribution for each category\n",
    "train_data[\"area\"].value_counts()"
   ]
  },
  {
   "cell_type": "code",
   "execution_count": null,
   "id": "651d9eba",
   "metadata": {},
   "outputs": [],
   "source": [
    "sns.countplot(x='area', data=train_data).set(title=\"area count for each category\")"
   ]
  },
  {
   "cell_type": "code",
   "execution_count": null,
   "id": "fce6d619",
   "metadata": {},
   "outputs": [],
   "source": [
    "# checking qualification distribution for each category\n",
    "train_data[\"qualification\"].value_counts()"
   ]
  },
  {
   "cell_type": "code",
   "execution_count": null,
   "id": "f5266e67",
   "metadata": {},
   "outputs": [],
   "source": [
    "sns.countplot(x='qualification', data=train_data).set(title=\"qualification count for each category\")"
   ]
  },
  {
   "cell_type": "code",
   "execution_count": null,
   "id": "bfb5c1ef",
   "metadata": {},
   "outputs": [],
   "source": [
    "# checking income distribution\n",
    "train_data[\"income\"].value_counts()"
   ]
  },
  {
   "cell_type": "code",
   "execution_count": null,
   "id": "c65f916a",
   "metadata": {},
   "outputs": [],
   "source": [
    "sns.countplot(x='income', data=train_data).set(title=\"income count for each category\")"
   ]
  },
  {
   "cell_type": "code",
   "execution_count": null,
   "id": "b0d162ca",
   "metadata": {},
   "outputs": [],
   "source": [
    "# checking marital_status distribution\n",
    "train_data[\"marital_status\"].value_counts()"
   ]
  },
  {
   "cell_type": "code",
   "execution_count": null,
   "id": "b0da2bef",
   "metadata": {},
   "outputs": [],
   "source": [
    "sns.countplot(x='marital_status', data=train_data).set(title=\"Marital status count for each category\")"
   ]
  },
  {
   "cell_type": "code",
   "execution_count": null,
   "id": "8a79bb56",
   "metadata": {},
   "outputs": [],
   "source": [
    "# checking vintage distribution\n",
    "train_data[\"vintage\"].value_counts()"
   ]
  },
  {
   "cell_type": "code",
   "execution_count": null,
   "id": "eed2a812",
   "metadata": {},
   "outputs": [],
   "source": [
    "sns.countplot(x='vintage', data=train_data).set(title=\"vintage count for each category\")"
   ]
  },
  {
   "cell_type": "code",
   "execution_count": null,
   "id": "3114fb39",
   "metadata": {},
   "outputs": [],
   "source": [
    "# checking num_policies distribution\n",
    "train_data[\"num_policies\"].value_counts()"
   ]
  },
  {
   "cell_type": "code",
   "execution_count": null,
   "id": "26cdcd8f",
   "metadata": {},
   "outputs": [],
   "source": [
    "sns.countplot(x='num_policies', data=train_data).set(title=\"No of Policies count for each category\")"
   ]
  },
  {
   "cell_type": "code",
   "execution_count": null,
   "id": "f4bac724",
   "metadata": {},
   "outputs": [],
   "source": [
    "# checking policy distribution\n",
    "train_data[\"policy\"].value_counts()"
   ]
  },
  {
   "cell_type": "code",
   "execution_count": null,
   "id": "f2507836",
   "metadata": {},
   "outputs": [],
   "source": [
    "sns.countplot(x='policy', data=train_data).set(title=\"policy count for each category\")"
   ]
  },
  {
   "cell_type": "code",
   "execution_count": null,
   "id": "f3d0c341",
   "metadata": {},
   "outputs": [],
   "source": [
    "#checking type_of_policy distribution\n",
    "train_data[\"type_of_policy\"].value_counts()"
   ]
  },
  {
   "cell_type": "code",
   "execution_count": null,
   "id": "dcfa268c",
   "metadata": {},
   "outputs": [],
   "source": [
    "sns.countplot(x='type_of_policy', data=train_data).set(title=\"Type of Policies count for each category\")"
   ]
  },
  {
   "cell_type": "code",
   "execution_count": null,
   "id": "d8b2c4c7",
   "metadata": {},
   "outputs": [],
   "source": [
    "# Checking outliers for claim amount\n",
    "sns.boxplot(x=train_data[\"claim_amount\"])"
   ]
  },
  {
   "cell_type": "code",
   "execution_count": null,
   "id": "f51ef1ab",
   "metadata": {},
   "outputs": [],
   "source": [
    "cat_cols = [\"gender\",\"area\",\"qualification\",\"income\",\"num_policies\",\"policy\",\"type_of_policy\"]\n",
    "## ENcoding\n",
    "train_data_ready = pd.get_dummies(data=train_data, columns = cat_cols)"
   ]
  },
  {
   "cell_type": "code",
   "execution_count": null,
   "id": "c81e67ad",
   "metadata": {},
   "outputs": [],
   "source": [
    "train_data_ready = train_data_ready.drop(\"id\",axis =1)"
   ]
  },
  {
   "cell_type": "code",
   "execution_count": null,
   "id": "e9c06b3a",
   "metadata": {},
   "outputs": [],
   "source": [
    "# creating target variable and feature\n",
    "x = train_data_ready.drop([\"cltv\"],axis = 1)\n",
    "y = train_data_ready[\"cltv\"]"
   ]
  },
  {
   "cell_type": "markdown",
   "id": "151edcec",
   "metadata": {},
   "source": [
    "### Importing Test data"
   ]
  },
  {
   "cell_type": "code",
   "execution_count": null,
   "id": "47b58b5c",
   "metadata": {},
   "outputs": [],
   "source": [
    "# Testing Data\n",
    "test_data = pd.read_csv(\"Data/test.csv\")\n",
    "test_data.head()"
   ]
  },
  {
   "cell_type": "code",
   "execution_count": null,
   "id": "4792252d",
   "metadata": {},
   "outputs": [],
   "source": [
    "test_data_processed = test_data.drop(\"id\",axis = 1)"
   ]
  },
  {
   "cell_type": "code",
   "execution_count": null,
   "id": "54ccac42",
   "metadata": {},
   "outputs": [],
   "source": [
    "cat_cols = [\"gender\",\"area\",\"qualification\",\"income\",\"num_policies\",\"policy\",\"type_of_policy\"]\n",
    "## ENcoding\n",
    "test_data_processed = pd.get_dummies(data=test_data, columns = cat_cols)"
   ]
  },
  {
   "cell_type": "markdown",
   "id": "5c9ee371",
   "metadata": {},
   "source": [
    "### Hyper parameter tunning"
   ]
  },
  {
   "cell_type": "code",
   "execution_count": null,
   "id": "98606403",
   "metadata": {},
   "outputs": [],
   "source": [
    "from sklearn.model_selection import GridSearchCV"
   ]
  },
  {
   "cell_type": "code",
   "execution_count": null,
   "id": "51606dfd",
   "metadata": {},
   "outputs": [],
   "source": [
    "parameters = {'depth'         : [4,5,6,7,8,9, 10],\n",
    "              'learning_rate' : [0.01,0.02,0.03,0.04],\n",
    "              'iterations'    : [10, 20,30,40,50,60,70,80,90, 100]\n",
    "              }"
   ]
  },
  {
   "cell_type": "code",
   "execution_count": null,
   "id": "cddf0f6f",
   "metadata": {},
   "outputs": [],
   "source": [
    "model = cb.CatBoostRegressor(loss_function=\"RMSE\")"
   ]
  },
  {
   "cell_type": "code",
   "execution_count": null,
   "id": "90606b94",
   "metadata": {},
   "outputs": [],
   "source": [
    "Grid_CBC = GridSearchCV(estimator=model, param_grid = parameters, cv = 2, n_jobs=-1)\n",
    "Grid_CBC.fit(x, y)"
   ]
  },
  {
   "cell_type": "code",
   "execution_count": null,
   "id": "f373cd5a",
   "metadata": {},
   "outputs": [],
   "source": [
    "Grid_CBC.best_params_"
   ]
  },
  {
   "cell_type": "code",
   "execution_count": null,
   "id": "804953c7",
   "metadata": {},
   "outputs": [],
   "source": [
    "model = cb.CatBoostRegressor(depth= 6,\n",
    "                             iterations = 100,\n",
    "                             learning_rate = 0.04,\n",
    "                             loss_function=\"RMSE\")"
   ]
  },
  {
   "cell_type": "code",
   "execution_count": null,
   "id": "b32aa150",
   "metadata": {},
   "outputs": [],
   "source": [
    "model.fit(x,y)"
   ]
  },
  {
   "cell_type": "code",
   "execution_count": null,
   "id": "c1174e88",
   "metadata": {},
   "outputs": [],
   "source": [
    "y_pred = model.predict(x)"
   ]
  },
  {
   "cell_type": "code",
   "execution_count": null,
   "id": "a4c7de52",
   "metadata": {},
   "outputs": [],
   "source": [
    "r2_score(y,y_pred)"
   ]
  },
  {
   "cell_type": "code",
   "execution_count": null,
   "id": "033b6eea",
   "metadata": {},
   "outputs": [],
   "source": [
    "y_test_pred = model.predict(test_data_processed)"
   ]
  },
  {
   "cell_type": "code",
   "execution_count": null,
   "id": "3d5aa5ee",
   "metadata": {},
   "outputs": [],
   "source": [
    "y_test_pred"
   ]
  },
  {
   "cell_type": "code",
   "execution_count": null,
   "id": "4d8a17bd",
   "metadata": {},
   "outputs": [],
   "source": [
    "submission_data = pd.read_csv(\"Data/sample_submission_v1.csv\")\n",
    "#creating the sample submission file\n",
    "submission_data[\"cltv\"] = y_test_pred\n",
    "submission_data.to_csv(\"sample_submission_v9_catb_tune.csv\",index=False)"
   ]
  },
  {
   "cell_type": "code",
   "execution_count": null,
   "id": "0e7f8009",
   "metadata": {},
   "outputs": [],
   "source": [
    "from sklearn.metrics import make_scorer, r2_score"
   ]
  },
  {
   "cell_type": "code",
   "execution_count": null,
   "id": "cb3515e4",
   "metadata": {},
   "outputs": [],
   "source": [
    "# Define the model\n",
    "model = cb.CatBoostRegressor()\n",
    "\n",
    "# Define the parameter grid\n",
    "param_grid = {'learning_rate': [0.1, 0.05, 0.01],\n",
    "              'depth': [3, 4, 5],\n",
    "              'l2_leaf_reg': [1, 3, 5, 7],\n",
    "              'iterations': [50, 100, 200],\n",
    "              'border_count': [32],\n",
    "              'boosting_type': ['Ordered'],\n",
    "              'leaf_estimation_iterations':[1,2],\n",
    "              'loss_function': ['RMSE','MAE'],\n",
    "              }\n",
    "\n",
    "# Define R2 as a scoring metric\n",
    "r2_scorer = make_scorer(r2_score)"
   ]
  },
  {
   "cell_type": "code",
   "execution_count": 1,
   "id": "87b4ae69",
   "metadata": {},
   "outputs": [
    {
     "ename": "NameError",
     "evalue": "name 'train_data_ready' is not defined",
     "output_type": "error",
     "traceback": [
      "\u001b[1;31m---------------------------------------------------------------------------\u001b[0m",
      "\u001b[1;31mNameError\u001b[0m                                 Traceback (most recent call last)",
      "\u001b[1;32m~\\AppData\\Local\\Temp\\ipykernel_16952\\3907625106.py\u001b[0m in \u001b[0;36m<module>\u001b[1;34m\u001b[0m\n\u001b[1;32m----> 1\u001b[1;33m \u001b[0mtrain_data_ready\u001b[0m\u001b[1;33m.\u001b[0m\u001b[0mcolumns\u001b[0m \u001b[1;33m=\u001b[0m \u001b[1;33m[\u001b[0m\u001b[0mregex\u001b[0m\u001b[1;33m.\u001b[0m\u001b[0msub\u001b[0m\u001b[1;33m(\u001b[0m\u001b[1;34m\"_\"\u001b[0m\u001b[1;33m,\u001b[0m \u001b[0mcol\u001b[0m\u001b[1;33m)\u001b[0m \u001b[1;32mif\u001b[0m \u001b[0many\u001b[0m\u001b[1;33m(\u001b[0m\u001b[0mx\u001b[0m \u001b[1;32min\u001b[0m \u001b[0mstr\u001b[0m\u001b[1;33m(\u001b[0m\u001b[0mcol\u001b[0m\u001b[1;33m)\u001b[0m \u001b[1;32mfor\u001b[0m \u001b[0mx\u001b[0m \u001b[1;32min\u001b[0m \u001b[0mset\u001b[0m\u001b[1;33m(\u001b[0m\u001b[1;33m(\u001b[0m\u001b[1;34m'['\u001b[0m\u001b[1;33m,\u001b[0m \u001b[1;34m']'\u001b[0m\u001b[1;33m,\u001b[0m \u001b[1;34m'<'\u001b[0m\u001b[1;33m)\u001b[0m\u001b[1;33m)\u001b[0m\u001b[1;33m)\u001b[0m \u001b[1;32melse\u001b[0m \u001b[0mcol\u001b[0m \u001b[1;32mfor\u001b[0m \u001b[0mcol\u001b[0m \u001b[1;32min\u001b[0m \u001b[0mtrain_data_ready\u001b[0m\u001b[1;33m.\u001b[0m\u001b[0mcolumns\u001b[0m\u001b[1;33m.\u001b[0m\u001b[0mvalues\u001b[0m\u001b[1;33m]\u001b[0m\u001b[1;33m\u001b[0m\u001b[1;33m\u001b[0m\u001b[0m\n\u001b[0m",
      "\u001b[1;31mNameError\u001b[0m: name 'train_data_ready' is not defined"
     ]
    }
   ],
   "source": [
    "train_data_ready.columns = [regex.sub(\"_\", col) if any(x in str(col) for x in set(('[', ']', '<'))) else col for col in train_data_ready.columns.values]"
   ]
  },
  {
   "cell_type": "code",
   "execution_count": null,
   "id": "20f010d2",
   "metadata": {},
   "outputs": [],
   "source": [
    "# Perform grid search with cross-validation\n",
    "grid_search = GridSearchCV(model, param_grid, cv=3, scoring=r2_scorer)\n",
    "grid_search.fit(x, y)"
   ]
  },
  {
   "cell_type": "code",
   "execution_count": null,
   "id": "39185b99",
   "metadata": {},
   "outputs": [],
   "source": [
    "# Print the best parameters and the best score\n",
    "print(\"Best parameters: \", grid_search.best_params_)\n",
    "print(\"Best R2 score: \", grid_search.best_score_)"
   ]
  },
  {
   "cell_type": "code",
   "execution_count": null,
   "id": "a9f8e7b7",
   "metadata": {},
   "outputs": [],
   "source": [
    "model = cb.CatBoostRegressor(boosting_type = 'Ordered', \n",
    "                             border_count = 32, \n",
    "                             depth = 4, \n",
    "                             iterations = 200, \n",
    "                             l2_leaf_reg = 3, \n",
    "                             leaf_estimation_iterations = 1, \n",
    "                             learning_rate = 0.1, \n",
    "                             loss_function = 'RMSE')"
   ]
  },
  {
   "cell_type": "code",
   "execution_count": null,
   "id": "3ebf77fa",
   "metadata": {},
   "outputs": [],
   "source": [
    "model.fit(x,y)"
   ]
  },
  {
   "cell_type": "code",
   "execution_count": null,
   "id": "49fcea4e",
   "metadata": {},
   "outputs": [],
   "source": [
    "y_pred = model.predict(x)\n",
    "r2_score(y,y_pred)"
   ]
  },
  {
   "cell_type": "code",
   "execution_count": null,
   "id": "692d6585",
   "metadata": {},
   "outputs": [],
   "source": [
    "y_test_pred = model.predict(test_data_processed)"
   ]
  },
  {
   "cell_type": "code",
   "execution_count": null,
   "id": "0d424fed",
   "metadata": {},
   "outputs": [],
   "source": [
    "submission_data = pd.read_csv(\"Data/sample_submission_v1.csv\")\n",
    "#creating the sample submission file\n",
    "submission_data[\"cltv\"] = y_test_pred\n",
    "submission_data.to_csv(\"sample_submission_v18_catb_best.csv\",index=False)"
   ]
  },
  {
   "cell_type": "code",
   "execution_count": null,
   "id": "c056939e",
   "metadata": {},
   "outputs": [],
   "source": []
  }
 ],
 "metadata": {
  "kernelspec": {
   "display_name": "Python 3 (ipykernel)",
   "language": "python",
   "name": "python3"
  },
  "language_info": {
   "codemirror_mode": {
    "name": "ipython",
    "version": 3
   },
   "file_extension": ".py",
   "mimetype": "text/x-python",
   "name": "python",
   "nbconvert_exporter": "python",
   "pygments_lexer": "ipython3",
   "version": "3.9.13"
  }
 },
 "nbformat": 4,
 "nbformat_minor": 5
}
